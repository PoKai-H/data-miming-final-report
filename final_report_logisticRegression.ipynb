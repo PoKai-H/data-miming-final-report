{
 "cells": [
  {
   "cell_type": "code",
   "execution_count": 1,
   "metadata": {},
   "outputs": [],
   "source": [
    "import pandas as pd\n",
    "import numpy as np\n",
    "import matplotlib.pyplot as plt\n",
    "import seaborn as sns"
   ]
  },
  {
   "cell_type": "code",
   "execution_count": 2,
   "metadata": {},
   "outputs": [],
   "source": [
    "ccba = pd.read_csv('/home/bill/moneylaundring/dataset/public_train_x_ccba_full_hashed.csv')\n",
    "cdtx = pd.read_csv('/home/bill/moneylaundring/dataset/public_train_x_cdtx0001_full_hashed.csv')\n",
    "custinfo = pd.read_csv('/home/bill/moneylaundring/dataset/public_train_x_custinfo_full_hashed.csv')\n",
    "dp = pd.read_csv('/home/bill/moneylaundring/dataset/public_train_x_dp_full_hashed.csv')\n",
    "remit = pd.read_csv('/home/bill/moneylaundring/dataset/public_train_x_remit1_full_hashed.csv')\n",
    "p_date = pd.read_csv('/home/bill/moneylaundring/dataset/public_x_alert_date.csv')\n",
    "t_date = pd.read_csv('/home/bill/moneylaundring/dataset/train_x_alert_date.csv')\n",
    "answer = pd.read_csv('/home/bill/moneylaundring/dataset/train_y_answer.csv')"
   ]
  },
  {
   "cell_type": "code",
   "execution_count": 3,
   "metadata": {},
   "outputs": [
    {
     "data": {
      "text/html": [
       "<div>\n",
       "<style scoped>\n",
       "    .dataframe tbody tr th:only-of-type {\n",
       "        vertical-align: middle;\n",
       "    }\n",
       "\n",
       "    .dataframe tbody tr th {\n",
       "        vertical-align: top;\n",
       "    }\n",
       "\n",
       "    .dataframe thead th {\n",
       "        text-align: right;\n",
       "    }\n",
       "</style>\n",
       "<table border=\"1\" class=\"dataframe\">\n",
       "  <thead>\n",
       "    <tr style=\"text-align: right;\">\n",
       "      <th></th>\n",
       "      <th>cycam</th>\n",
       "    </tr>\n",
       "    <tr>\n",
       "      <th>cust_id</th>\n",
       "      <th></th>\n",
       "    </tr>\n",
       "  </thead>\n",
       "  <tbody>\n",
       "    <tr>\n",
       "      <th>0015cc01f553512007705edf855baa16f1b57a16fb107e0882c5cb0535d297a5</th>\n",
       "      <td>134614.0</td>\n",
       "    </tr>\n",
       "    <tr>\n",
       "      <th>002d6bc6382e759c9a5b6bb2c8dda9add2f38cd87e10ca3efda9a312e97b342c</th>\n",
       "      <td>406614.0</td>\n",
       "    </tr>\n",
       "    <tr>\n",
       "      <th>002f13f534d0bd9fcc1848db3ff5c7b1179d117f8de8055b7394696b948ec9b4</th>\n",
       "      <td>314421.0</td>\n",
       "    </tr>\n",
       "    <tr>\n",
       "      <th>0031e83ddef78e57d17ac5dce088627b7745be8ff6cffcbc0a79aff9fedd93f0</th>\n",
       "      <td>202831.0</td>\n",
       "    </tr>\n",
       "    <tr>\n",
       "      <th>0032adaf4a8731b4d6a3fdcba32f9ebdcd336490eda155b9bc5d18de6b65f381</th>\n",
       "      <td>20238.0</td>\n",
       "    </tr>\n",
       "    <tr>\n",
       "      <th>...</th>\n",
       "      <td>...</td>\n",
       "    </tr>\n",
       "    <tr>\n",
       "      <th>ffa5bcc6f88df5c33e809da4daa54de0031803f37d8f114b0ce2a70519099edc</th>\n",
       "      <td>208683.0</td>\n",
       "    </tr>\n",
       "    <tr>\n",
       "      <th>ffae7fef923c78298cd647a3d573e48cc1404b07ac794a63f436399ceca4ed9d</th>\n",
       "      <td>208765.0</td>\n",
       "    </tr>\n",
       "    <tr>\n",
       "      <th>ffdbc1a5135cb6feddf7355e5656abf6973f21639c7b9b9c8a23f77a194369c9</th>\n",
       "      <td>203231.0</td>\n",
       "    </tr>\n",
       "    <tr>\n",
       "      <th>ffdd3f98b841d4d0ef58ad0d63abddac83ffb5babf973cae4f00fb64ba9b859a</th>\n",
       "      <td>1043907.0</td>\n",
       "    </tr>\n",
       "    <tr>\n",
       "      <th>ffeb846f2294ec4397f800736dc1e14eb754da5425398d9a3bb81469b764b16f</th>\n",
       "      <td>781570.0</td>\n",
       "    </tr>\n",
       "  </tbody>\n",
       "</table>\n",
       "<p>4745 rows × 1 columns</p>\n",
       "</div>"
      ],
      "text/plain": [
       "                                                        cycam\n",
       "cust_id                                                      \n",
       "0015cc01f553512007705edf855baa16f1b57a16fb107e0...   134614.0\n",
       "002d6bc6382e759c9a5b6bb2c8dda9add2f38cd87e10ca3...   406614.0\n",
       "002f13f534d0bd9fcc1848db3ff5c7b1179d117f8de8055...   314421.0\n",
       "0031e83ddef78e57d17ac5dce088627b7745be8ff6cffcb...   202831.0\n",
       "0032adaf4a8731b4d6a3fdcba32f9ebdcd336490eda155b...    20238.0\n",
       "...                                                       ...\n",
       "ffa5bcc6f88df5c33e809da4daa54de0031803f37d8f114...   208683.0\n",
       "ffae7fef923c78298cd647a3d573e48cc1404b07ac794a6...   208765.0\n",
       "ffdbc1a5135cb6feddf7355e5656abf6973f21639c7b9b9...   203231.0\n",
       "ffdd3f98b841d4d0ef58ad0d63abddac83ffb5babf973ca...  1043907.0\n",
       "ffeb846f2294ec4397f800736dc1e14eb754da5425398d9...   781570.0\n",
       "\n",
       "[4745 rows x 1 columns]"
      ]
     },
     "execution_count": 3,
     "metadata": {},
     "output_type": "execute_result"
    }
   ],
   "source": [
    "ccba_merge = ccba.groupby('cust_id')\n",
    "new_ccba = ccba_merge['cycam'].max()\n",
    "new_ccba = pd.DataFrame(new_ccba)\n",
    "new_ccba"
   ]
  },
  {
   "cell_type": "code",
   "execution_count": 4,
   "metadata": {},
   "outputs": [],
   "source": [
    "cinfo = custinfo.merge(new_ccba,on='cust_id',how='outer')\n",
    "cinfo = cinfo.merge(t_date, on='alert_key')\n",
    "cinfo = cinfo.merge(answer, on='alert_key')"
   ]
  },
  {
   "cell_type": "code",
   "execution_count": 5,
   "metadata": {},
   "outputs": [],
   "source": [
    "cinfo['cycam'].fillna(0,inplace=True)"
   ]
  },
  {
   "cell_type": "code",
   "execution_count": 6,
   "metadata": {},
   "outputs": [
    {
     "data": {
      "text/html": [
       "<div>\n",
       "<style scoped>\n",
       "    .dataframe tbody tr th:only-of-type {\n",
       "        vertical-align: middle;\n",
       "    }\n",
       "\n",
       "    .dataframe tbody tr th {\n",
       "        vertical-align: top;\n",
       "    }\n",
       "\n",
       "    .dataframe thead th {\n",
       "        text-align: right;\n",
       "    }\n",
       "</style>\n",
       "<table border=\"1\" class=\"dataframe\">\n",
       "  <thead>\n",
       "    <tr style=\"text-align: right;\">\n",
       "      <th></th>\n",
       "      <th>alert_key</th>\n",
       "      <th>cust_id</th>\n",
       "      <th>risk_rank</th>\n",
       "      <th>occupation_code</th>\n",
       "      <th>total_asset</th>\n",
       "      <th>AGE</th>\n",
       "      <th>cycam</th>\n",
       "      <th>date</th>\n",
       "      <th>sar_flag</th>\n",
       "    </tr>\n",
       "  </thead>\n",
       "  <tbody>\n",
       "  </tbody>\n",
       "</table>\n",
       "</div>"
      ],
      "text/plain": [
       "Empty DataFrame\n",
       "Columns: [alert_key, cust_id, risk_rank, occupation_code, total_asset, AGE, cycam, date, sar_flag]\n",
       "Index: []"
      ]
     },
     "execution_count": 6,
     "metadata": {},
     "output_type": "execute_result"
    }
   ],
   "source": [
    "cinfo[cinfo['cycam'].isna()]"
   ]
  },
  {
   "cell_type": "code",
   "execution_count": 7,
   "metadata": {},
   "outputs": [
    {
     "data": {
      "text/plain": [
       "alert_key          False\n",
       "cust_id            False\n",
       "risk_rank          False\n",
       "occupation_code     True\n",
       "total_asset        False\n",
       "AGE                False\n",
       "cycam              False\n",
       "date               False\n",
       "sar_flag           False\n",
       "dtype: bool"
      ]
     },
     "execution_count": 7,
     "metadata": {},
     "output_type": "execute_result"
    }
   ],
   "source": [
    "cinfo.isna().any()"
   ]
  },
  {
   "cell_type": "code",
   "execution_count": 8,
   "metadata": {},
   "outputs": [
    {
     "data": {
      "text/plain": [
       "array([19.,  2., 17., 15., 12.,  9., 18.,  1., 14.,  3., 13.,  5., 10.,\n",
       "       16., nan, 11.,  4.,  7.,  8., 20.,  0.,  6.])"
      ]
     },
     "execution_count": 8,
     "metadata": {},
     "output_type": "execute_result"
    }
   ],
   "source": [
    "cinfo['occupation_code'].unique()"
   ]
  },
  {
   "cell_type": "code",
   "execution_count": 9,
   "metadata": {},
   "outputs": [],
   "source": [
    "cinfo['occupation_code'].fillna(21,inplace=True)"
   ]
  },
  {
   "cell_type": "code",
   "execution_count": 10,
   "metadata": {},
   "outputs": [
    {
     "data": {
      "text/plain": [
       "alert_key          False\n",
       "cust_id            False\n",
       "risk_rank          False\n",
       "occupation_code    False\n",
       "total_asset        False\n",
       "AGE                False\n",
       "cycam              False\n",
       "date               False\n",
       "sar_flag           False\n",
       "dtype: bool"
      ]
     },
     "execution_count": 10,
     "metadata": {},
     "output_type": "execute_result"
    }
   ],
   "source": [
    "cinfo.isna().any()"
   ]
  },
  {
   "cell_type": "code",
   "execution_count": 11,
   "metadata": {},
   "outputs": [],
   "source": [
    "cdtx = pd.merge(cinfo, cdtx, left_on=['cust_id','date'], right_on=['cust_id','date'])\n",
    "dp = pd.merge(cinfo, dp, left_on=['cust_id','date'], right_on=['cust_id','tx_date'])\n",
    "remit = pd.merge(cinfo, remit, left_on=['cust_id','date'], right_on=['cust_id','trans_date'])"
   ]
  },
  {
   "cell_type": "code",
   "execution_count": 12,
   "metadata": {},
   "outputs": [],
   "source": [
    "cdtx_X = cdtx[['risk_rank','occupation_code','total_asset','AGE','cycam','country','cur_type','amt','date']]\n",
    "cdtx_y = cdtx[['sar_flag']]\n",
    "cdtx_idx = cdtx[['alert_key']]"
   ]
  },
  {
   "cell_type": "code",
   "execution_count": 13,
   "metadata": {},
   "outputs": [],
   "source": [
    "from sklearn.model_selection import train_test_split\n",
    "cdtx_X_train, cdtx_X_test, cdtx_y_train, cdtx_y_test , cdtx_train_indices, cdtx_test_indices= train_test_split(cdtx_X, cdtx_y, cdtx_idx, test_size = 0.1, random_state=0)"
   ]
  },
  {
   "attachments": {},
   "cell_type": "markdown",
   "metadata": {},
   "source": [
    "依據分數，第一種欄位取法選擇捨去 fs_score 小於 100"
   ]
  },
  {
   "cell_type": "code",
   "execution_count": 14,
   "metadata": {},
   "outputs": [],
   "source": [
    "cdtx_X_train_new = cdtx_X_train[['total_asset','cycam','country','cur_type','amt','date']]"
   ]
  },
  {
   "cell_type": "code",
   "execution_count": 15,
   "metadata": {},
   "outputs": [
    {
     "data": {
      "text/html": [
       "<div>\n",
       "<style scoped>\n",
       "    .dataframe tbody tr th:only-of-type {\n",
       "        vertical-align: middle;\n",
       "    }\n",
       "\n",
       "    .dataframe tbody tr th {\n",
       "        vertical-align: top;\n",
       "    }\n",
       "\n",
       "    .dataframe thead th {\n",
       "        text-align: right;\n",
       "    }\n",
       "</style>\n",
       "<table border=\"1\" class=\"dataframe\">\n",
       "  <thead>\n",
       "    <tr style=\"text-align: right;\">\n",
       "      <th></th>\n",
       "      <th>total_asset</th>\n",
       "      <th>cycam</th>\n",
       "      <th>country</th>\n",
       "      <th>cur_type</th>\n",
       "      <th>amt</th>\n",
       "      <th>date</th>\n",
       "    </tr>\n",
       "  </thead>\n",
       "  <tbody>\n",
       "    <tr>\n",
       "      <th>20227</th>\n",
       "      <td>1330.0</td>\n",
       "      <td>307001.0</td>\n",
       "      <td>130</td>\n",
       "      <td>47</td>\n",
       "      <td>36073.0</td>\n",
       "      <td>125</td>\n",
       "    </tr>\n",
       "    <tr>\n",
       "      <th>13858</th>\n",
       "      <td>517214.0</td>\n",
       "      <td>418264.0</td>\n",
       "      <td>130</td>\n",
       "      <td>47</td>\n",
       "      <td>117114.0</td>\n",
       "      <td>36</td>\n",
       "    </tr>\n",
       "    <tr>\n",
       "      <th>7643</th>\n",
       "      <td>5691.0</td>\n",
       "      <td>72435.0</td>\n",
       "      <td>59</td>\n",
       "      <td>16</td>\n",
       "      <td>8.0</td>\n",
       "      <td>363</td>\n",
       "    </tr>\n",
       "    <tr>\n",
       "      <th>31207</th>\n",
       "      <td>867571.0</td>\n",
       "      <td>312011.0</td>\n",
       "      <td>134</td>\n",
       "      <td>30</td>\n",
       "      <td>209.0</td>\n",
       "      <td>62</td>\n",
       "    </tr>\n",
       "    <tr>\n",
       "      <th>37784</th>\n",
       "      <td>6401.0</td>\n",
       "      <td>250274.0</td>\n",
       "      <td>130</td>\n",
       "      <td>47</td>\n",
       "      <td>12914.0</td>\n",
       "      <td>216</td>\n",
       "    </tr>\n",
       "    <tr>\n",
       "      <th>...</th>\n",
       "      <td>...</td>\n",
       "      <td>...</td>\n",
       "      <td>...</td>\n",
       "      <td>...</td>\n",
       "      <td>...</td>\n",
       "      <td>...</td>\n",
       "    </tr>\n",
       "    <tr>\n",
       "      <th>21243</th>\n",
       "      <td>991292.0</td>\n",
       "      <td>312011.0</td>\n",
       "      <td>134</td>\n",
       "      <td>30</td>\n",
       "      <td>214.0</td>\n",
       "      <td>20</td>\n",
       "    </tr>\n",
       "    <tr>\n",
       "      <th>45891</th>\n",
       "      <td>0.0</td>\n",
       "      <td>803500.0</td>\n",
       "      <td>135</td>\n",
       "      <td>46</td>\n",
       "      <td>85222.0</td>\n",
       "      <td>351</td>\n",
       "    </tr>\n",
       "    <tr>\n",
       "      <th>42613</th>\n",
       "      <td>1561931.0</td>\n",
       "      <td>102925.0</td>\n",
       "      <td>130</td>\n",
       "      <td>47</td>\n",
       "      <td>196.0</td>\n",
       "      <td>154</td>\n",
       "    </tr>\n",
       "    <tr>\n",
       "      <th>43567</th>\n",
       "      <td>270797.0</td>\n",
       "      <td>305944.0</td>\n",
       "      <td>130</td>\n",
       "      <td>47</td>\n",
       "      <td>117.0</td>\n",
       "      <td>180</td>\n",
       "    </tr>\n",
       "    <tr>\n",
       "      <th>2732</th>\n",
       "      <td>686522.0</td>\n",
       "      <td>835499.0</td>\n",
       "      <td>130</td>\n",
       "      <td>47</td>\n",
       "      <td>565.0</td>\n",
       "      <td>70</td>\n",
       "    </tr>\n",
       "  </tbody>\n",
       "</table>\n",
       "<p>43296 rows × 6 columns</p>\n",
       "</div>"
      ],
      "text/plain": [
       "       total_asset     cycam  country  cur_type       amt  date\n",
       "20227       1330.0  307001.0      130        47   36073.0   125\n",
       "13858     517214.0  418264.0      130        47  117114.0    36\n",
       "7643        5691.0   72435.0       59        16       8.0   363\n",
       "31207     867571.0  312011.0      134        30     209.0    62\n",
       "37784       6401.0  250274.0      130        47   12914.0   216\n",
       "...            ...       ...      ...       ...       ...   ...\n",
       "21243     991292.0  312011.0      134        30     214.0    20\n",
       "45891          0.0  803500.0      135        46   85222.0   351\n",
       "42613    1561931.0  102925.0      130        47     196.0   154\n",
       "43567     270797.0  305944.0      130        47     117.0   180\n",
       "2732      686522.0  835499.0      130        47     565.0    70\n",
       "\n",
       "[43296 rows x 6 columns]"
      ]
     },
     "execution_count": 15,
     "metadata": {},
     "output_type": "execute_result"
    }
   ],
   "source": [
    "cdtx_X_train_new"
   ]
  },
  {
   "cell_type": "code",
   "execution_count": 16,
   "metadata": {},
   "outputs": [],
   "source": [
    "cdtx_X_test_new = cdtx_X_test[['total_asset','cycam','country','cur_type','amt','date']]"
   ]
  },
  {
   "cell_type": "code",
   "execution_count": 17,
   "metadata": {},
   "outputs": [
    {
     "data": {
      "text/html": [
       "<div>\n",
       "<style scoped>\n",
       "    .dataframe tbody tr th:only-of-type {\n",
       "        vertical-align: middle;\n",
       "    }\n",
       "\n",
       "    .dataframe tbody tr th {\n",
       "        vertical-align: top;\n",
       "    }\n",
       "\n",
       "    .dataframe thead th {\n",
       "        text-align: right;\n",
       "    }\n",
       "</style>\n",
       "<table border=\"1\" class=\"dataframe\">\n",
       "  <thead>\n",
       "    <tr style=\"text-align: right;\">\n",
       "      <th></th>\n",
       "      <th>total_asset</th>\n",
       "      <th>cycam</th>\n",
       "      <th>country</th>\n",
       "      <th>cur_type</th>\n",
       "      <th>amt</th>\n",
       "      <th>date</th>\n",
       "    </tr>\n",
       "  </thead>\n",
       "  <tbody>\n",
       "    <tr>\n",
       "      <th>15362</th>\n",
       "      <td>2287681.0</td>\n",
       "      <td>1503243.0</td>\n",
       "      <td>130</td>\n",
       "      <td>47</td>\n",
       "      <td>2336.0</td>\n",
       "      <td>20</td>\n",
       "    </tr>\n",
       "    <tr>\n",
       "      <th>21928</th>\n",
       "      <td>991292.0</td>\n",
       "      <td>312011.0</td>\n",
       "      <td>52</td>\n",
       "      <td>13</td>\n",
       "      <td>12840.0</td>\n",
       "      <td>26</td>\n",
       "    </tr>\n",
       "    <tr>\n",
       "      <th>46113</th>\n",
       "      <td>27396.0</td>\n",
       "      <td>201307.0</td>\n",
       "      <td>44</td>\n",
       "      <td>47</td>\n",
       "      <td>813.0</td>\n",
       "      <td>267</td>\n",
       "    </tr>\n",
       "    <tr>\n",
       "      <th>32837</th>\n",
       "      <td>326296.0</td>\n",
       "      <td>292963.0</td>\n",
       "      <td>135</td>\n",
       "      <td>46</td>\n",
       "      <td>5737.0</td>\n",
       "      <td>117</td>\n",
       "    </tr>\n",
       "    <tr>\n",
       "      <th>24270</th>\n",
       "      <td>797756.0</td>\n",
       "      <td>312011.0</td>\n",
       "      <td>134</td>\n",
       "      <td>30</td>\n",
       "      <td>212.0</td>\n",
       "      <td>35</td>\n",
       "    </tr>\n",
       "    <tr>\n",
       "      <th>...</th>\n",
       "      <td>...</td>\n",
       "      <td>...</td>\n",
       "      <td>...</td>\n",
       "      <td>...</td>\n",
       "      <td>...</td>\n",
       "      <td>...</td>\n",
       "    </tr>\n",
       "    <tr>\n",
       "      <th>41021</th>\n",
       "      <td>160933.0</td>\n",
       "      <td>402038.0</td>\n",
       "      <td>130</td>\n",
       "      <td>47</td>\n",
       "      <td>86214.0</td>\n",
       "      <td>194</td>\n",
       "    </tr>\n",
       "    <tr>\n",
       "      <th>19784</th>\n",
       "      <td>332090.0</td>\n",
       "      <td>522800.0</td>\n",
       "      <td>43</td>\n",
       "      <td>47</td>\n",
       "      <td>1031.0</td>\n",
       "      <td>99</td>\n",
       "    </tr>\n",
       "    <tr>\n",
       "      <th>9746</th>\n",
       "      <td>2815277.0</td>\n",
       "      <td>402456.0</td>\n",
       "      <td>130</td>\n",
       "      <td>47</td>\n",
       "      <td>332.0</td>\n",
       "      <td>348</td>\n",
       "    </tr>\n",
       "    <tr>\n",
       "      <th>13948</th>\n",
       "      <td>517214.0</td>\n",
       "      <td>418264.0</td>\n",
       "      <td>130</td>\n",
       "      <td>47</td>\n",
       "      <td>125479.0</td>\n",
       "      <td>42</td>\n",
       "    </tr>\n",
       "    <tr>\n",
       "      <th>18428</th>\n",
       "      <td>155750.0</td>\n",
       "      <td>202031.0</td>\n",
       "      <td>130</td>\n",
       "      <td>47</td>\n",
       "      <td>53821.0</td>\n",
       "      <td>8</td>\n",
       "    </tr>\n",
       "  </tbody>\n",
       "</table>\n",
       "<p>4811 rows × 6 columns</p>\n",
       "</div>"
      ],
      "text/plain": [
       "       total_asset      cycam  country  cur_type       amt  date\n",
       "15362    2287681.0  1503243.0      130        47    2336.0    20\n",
       "21928     991292.0   312011.0       52        13   12840.0    26\n",
       "46113      27396.0   201307.0       44        47     813.0   267\n",
       "32837     326296.0   292963.0      135        46    5737.0   117\n",
       "24270     797756.0   312011.0      134        30     212.0    35\n",
       "...            ...        ...      ...       ...       ...   ...\n",
       "41021     160933.0   402038.0      130        47   86214.0   194\n",
       "19784     332090.0   522800.0       43        47    1031.0    99\n",
       "9746     2815277.0   402456.0      130        47     332.0   348\n",
       "13948     517214.0   418264.0      130        47  125479.0    42\n",
       "18428     155750.0   202031.0      130        47   53821.0     8\n",
       "\n",
       "[4811 rows x 6 columns]"
      ]
     },
     "execution_count": 17,
     "metadata": {},
     "output_type": "execute_result"
    }
   ],
   "source": [
    "cdtx_X_test_new"
   ]
  },
  {
   "cell_type": "code",
   "execution_count": 18,
   "metadata": {},
   "outputs": [],
   "source": [
    "from sklearn.preprocessing import StandardScaler, OneHotEncoder\n",
    "from sklearn.compose import ColumnTransformer"
   ]
  },
  {
   "cell_type": "code",
   "execution_count": 19,
   "metadata": {},
   "outputs": [],
   "source": [
    "cdtx_ct_new = ColumnTransformer(transformers=[('onehot', OneHotEncoder(handle_unknown='ignore'),[2,3,5]),('std',StandardScaler(),[0,1,4])], remainder='passthrough')\n",
    "cdtx_X_train_new_T = cdtx_ct_new.fit_transform(cdtx_X_train_new)\n",
    "cdtx_X_test_new_T = cdtx_ct_new.transform(cdtx_X_test_new)"
   ]
  },
  {
   "cell_type": "code",
   "execution_count": 20,
   "metadata": {},
   "outputs": [],
   "source": [
    "from sklearn.linear_model import LogisticRegression"
   ]
  },
  {
   "cell_type": "code",
   "execution_count": 21,
   "metadata": {},
   "outputs": [
    {
     "data": {
      "text/html": [
       "<style>#sk-container-id-1 {color: black;background-color: white;}#sk-container-id-1 pre{padding: 0;}#sk-container-id-1 div.sk-toggleable {background-color: white;}#sk-container-id-1 label.sk-toggleable__label {cursor: pointer;display: block;width: 100%;margin-bottom: 0;padding: 0.3em;box-sizing: border-box;text-align: center;}#sk-container-id-1 label.sk-toggleable__label-arrow:before {content: \"▸\";float: left;margin-right: 0.25em;color: #696969;}#sk-container-id-1 label.sk-toggleable__label-arrow:hover:before {color: black;}#sk-container-id-1 div.sk-estimator:hover label.sk-toggleable__label-arrow:before {color: black;}#sk-container-id-1 div.sk-toggleable__content {max-height: 0;max-width: 0;overflow: hidden;text-align: left;background-color: #f0f8ff;}#sk-container-id-1 div.sk-toggleable__content pre {margin: 0.2em;color: black;border-radius: 0.25em;background-color: #f0f8ff;}#sk-container-id-1 input.sk-toggleable__control:checked~div.sk-toggleable__content {max-height: 200px;max-width: 100%;overflow: auto;}#sk-container-id-1 input.sk-toggleable__control:checked~label.sk-toggleable__label-arrow:before {content: \"▾\";}#sk-container-id-1 div.sk-estimator input.sk-toggleable__control:checked~label.sk-toggleable__label {background-color: #d4ebff;}#sk-container-id-1 div.sk-label input.sk-toggleable__control:checked~label.sk-toggleable__label {background-color: #d4ebff;}#sk-container-id-1 input.sk-hidden--visually {border: 0;clip: rect(1px 1px 1px 1px);clip: rect(1px, 1px, 1px, 1px);height: 1px;margin: -1px;overflow: hidden;padding: 0;position: absolute;width: 1px;}#sk-container-id-1 div.sk-estimator {font-family: monospace;background-color: #f0f8ff;border: 1px dotted black;border-radius: 0.25em;box-sizing: border-box;margin-bottom: 0.5em;}#sk-container-id-1 div.sk-estimator:hover {background-color: #d4ebff;}#sk-container-id-1 div.sk-parallel-item::after {content: \"\";width: 100%;border-bottom: 1px solid gray;flex-grow: 1;}#sk-container-id-1 div.sk-label:hover label.sk-toggleable__label {background-color: #d4ebff;}#sk-container-id-1 div.sk-serial::before {content: \"\";position: absolute;border-left: 1px solid gray;box-sizing: border-box;top: 0;bottom: 0;left: 50%;z-index: 0;}#sk-container-id-1 div.sk-serial {display: flex;flex-direction: column;align-items: center;background-color: white;padding-right: 0.2em;padding-left: 0.2em;position: relative;}#sk-container-id-1 div.sk-item {position: relative;z-index: 1;}#sk-container-id-1 div.sk-parallel {display: flex;align-items: stretch;justify-content: center;background-color: white;position: relative;}#sk-container-id-1 div.sk-item::before, #sk-container-id-1 div.sk-parallel-item::before {content: \"\";position: absolute;border-left: 1px solid gray;box-sizing: border-box;top: 0;bottom: 0;left: 50%;z-index: -1;}#sk-container-id-1 div.sk-parallel-item {display: flex;flex-direction: column;z-index: 1;position: relative;background-color: white;}#sk-container-id-1 div.sk-parallel-item:first-child::after {align-self: flex-end;width: 50%;}#sk-container-id-1 div.sk-parallel-item:last-child::after {align-self: flex-start;width: 50%;}#sk-container-id-1 div.sk-parallel-item:only-child::after {width: 0;}#sk-container-id-1 div.sk-dashed-wrapped {border: 1px dashed gray;margin: 0 0.4em 0.5em 0.4em;box-sizing: border-box;padding-bottom: 0.4em;background-color: white;}#sk-container-id-1 div.sk-label label {font-family: monospace;font-weight: bold;display: inline-block;line-height: 1.2em;}#sk-container-id-1 div.sk-label-container {text-align: center;}#sk-container-id-1 div.sk-container {/* jupyter's `normalize.less` sets `[hidden] { display: none; }` but bootstrap.min.css set `[hidden] { display: none !important; }` so we also need the `!important` here to be able to override the default hidden behavior on the sphinx rendered scikit-learn.org. See: https://github.com/scikit-learn/scikit-learn/issues/21755 */display: inline-block !important;position: relative;}#sk-container-id-1 div.sk-text-repr-fallback {display: none;}</style><div id=\"sk-container-id-1\" class=\"sk-top-container\"><div class=\"sk-text-repr-fallback\"><pre>LogisticRegression(max_iter=1000000, solver=&#x27;sag&#x27;)</pre><b>In a Jupyter environment, please rerun this cell to show the HTML representation or trust the notebook. <br />On GitHub, the HTML representation is unable to render, please try loading this page with nbviewer.org.</b></div><div class=\"sk-container\" hidden><div class=\"sk-item\"><div class=\"sk-estimator sk-toggleable\"><input class=\"sk-toggleable__control sk-hidden--visually\" id=\"sk-estimator-id-1\" type=\"checkbox\" checked><label for=\"sk-estimator-id-1\" class=\"sk-toggleable__label sk-toggleable__label-arrow\">LogisticRegression</label><div class=\"sk-toggleable__content\"><pre>LogisticRegression(max_iter=1000000, solver=&#x27;sag&#x27;)</pre></div></div></div></div></div>"
      ],
      "text/plain": [
       "LogisticRegression(max_iter=1000000, solver='sag')"
      ]
     },
     "execution_count": 21,
     "metadata": {},
     "output_type": "execute_result"
    }
   ],
   "source": [
    "cdtx_classfier_new = LogisticRegression(solver='sag',max_iter=1000000)\n",
    "cdtx_classfier_new.fit(cdtx_X_train_new_T, cdtx_y_train.values.ravel())"
   ]
  },
  {
   "cell_type": "code",
   "execution_count": 22,
   "metadata": {},
   "outputs": [
    {
     "name": "stdout",
     "output_type": "stream",
     "text": [
      "[[4753   10]\n",
      " [  23   25]]\n"
     ]
    }
   ],
   "source": [
    "from sklearn.metrics import confusion_matrix, accuracy_score, ConfusionMatrixDisplay\n",
    "cdtx_y_pred_new = cdtx_classfier_new.predict(cdtx_X_test_new_T)\n",
    "cdtx_cm_new = confusion_matrix(cdtx_y_test, cdtx_y_pred_new)\n",
    "print(cdtx_cm_new)"
   ]
  },
  {
   "cell_type": "code",
   "execution_count": 23,
   "metadata": {},
   "outputs": [
    {
     "name": "stdout",
     "output_type": "stream",
     "text": [
      "Test set Accuracy: 99.31 %\n"
     ]
    }
   ],
   "source": [
    "print('Test set Accuracy: {:.2f} %'.format(accuracy_score(cdtx_y_test, cdtx_y_pred_new)*100))"
   ]
  },
  {
   "cell_type": "code",
   "execution_count": 24,
   "metadata": {},
   "outputs": [
    {
     "data": {
      "image/png": "[encoded data removed]",
      "text/plain": [
       "<Figure size 640x480 with 2 Axes>"
      ]
     },
     "metadata": {},
     "output_type": "display_data"
    }
   ],
   "source": [
    "cdtx_display1 = ConfusionMatrixDisplay(confusion_matrix=cdtx_cm_new)\n",
    "cdtx_display1.plot()\n",
    "plt.show()"
   ]
  },
  {
   "attachments": {},
   "cell_type": "markdown",
   "metadata": {},
   "source": [
    "第二種選擇 fs_score > 0"
   ]
  },
  {
   "cell_type": "code",
   "execution_count": 25,
   "metadata": {},
   "outputs": [],
   "source": [
    "cdtx_X_train_new2 = cdtx_X_train[['risk_rank','AGE','total_asset','cycam','country','cur_type','amt','date']]"
   ]
  },
  {
   "cell_type": "code",
   "execution_count": 26,
   "metadata": {},
   "outputs": [
    {
     "data": {
      "text/html": [
       "<div>\n",
       "<style scoped>\n",
       "    .dataframe tbody tr th:only-of-type {\n",
       "        vertical-align: middle;\n",
       "    }\n",
       "\n",
       "    .dataframe tbody tr th {\n",
       "        vertical-align: top;\n",
       "    }\n",
       "\n",
       "    .dataframe thead th {\n",
       "        text-align: right;\n",
       "    }\n",
       "</style>\n",
       "<table border=\"1\" class=\"dataframe\">\n",
       "  <thead>\n",
       "    <tr style=\"text-align: right;\">\n",
       "      <th></th>\n",
       "      <th>risk_rank</th>\n",
       "      <th>AGE</th>\n",
       "      <th>total_asset</th>\n",
       "      <th>cycam</th>\n",
       "      <th>country</th>\n",
       "      <th>cur_type</th>\n",
       "      <th>amt</th>\n",
       "      <th>date</th>\n",
       "    </tr>\n",
       "  </thead>\n",
       "  <tbody>\n",
       "    <tr>\n",
       "      <th>20227</th>\n",
       "      <td>1</td>\n",
       "      <td>5</td>\n",
       "      <td>1330.0</td>\n",
       "      <td>307001.0</td>\n",
       "      <td>130</td>\n",
       "      <td>47</td>\n",
       "      <td>36073.0</td>\n",
       "      <td>125</td>\n",
       "    </tr>\n",
       "    <tr>\n",
       "      <th>13858</th>\n",
       "      <td>3</td>\n",
       "      <td>3</td>\n",
       "      <td>517214.0</td>\n",
       "      <td>418264.0</td>\n",
       "      <td>130</td>\n",
       "      <td>47</td>\n",
       "      <td>117114.0</td>\n",
       "      <td>36</td>\n",
       "    </tr>\n",
       "    <tr>\n",
       "      <th>7643</th>\n",
       "      <td>1</td>\n",
       "      <td>2</td>\n",
       "      <td>5691.0</td>\n",
       "      <td>72435.0</td>\n",
       "      <td>59</td>\n",
       "      <td>16</td>\n",
       "      <td>8.0</td>\n",
       "      <td>363</td>\n",
       "    </tr>\n",
       "    <tr>\n",
       "      <th>31207</th>\n",
       "      <td>3</td>\n",
       "      <td>3</td>\n",
       "      <td>867571.0</td>\n",
       "      <td>312011.0</td>\n",
       "      <td>134</td>\n",
       "      <td>30</td>\n",
       "      <td>209.0</td>\n",
       "      <td>62</td>\n",
       "    </tr>\n",
       "    <tr>\n",
       "      <th>37784</th>\n",
       "      <td>1</td>\n",
       "      <td>2</td>\n",
       "      <td>6401.0</td>\n",
       "      <td>250274.0</td>\n",
       "      <td>130</td>\n",
       "      <td>47</td>\n",
       "      <td>12914.0</td>\n",
       "      <td>216</td>\n",
       "    </tr>\n",
       "    <tr>\n",
       "      <th>...</th>\n",
       "      <td>...</td>\n",
       "      <td>...</td>\n",
       "      <td>...</td>\n",
       "      <td>...</td>\n",
       "      <td>...</td>\n",
       "      <td>...</td>\n",
       "      <td>...</td>\n",
       "      <td>...</td>\n",
       "    </tr>\n",
       "    <tr>\n",
       "      <th>21243</th>\n",
       "      <td>3</td>\n",
       "      <td>3</td>\n",
       "      <td>991292.0</td>\n",
       "      <td>312011.0</td>\n",
       "      <td>134</td>\n",
       "      <td>30</td>\n",
       "      <td>214.0</td>\n",
       "      <td>20</td>\n",
       "    </tr>\n",
       "    <tr>\n",
       "      <th>45891</th>\n",
       "      <td>1</td>\n",
       "      <td>3</td>\n",
       "      <td>0.0</td>\n",
       "      <td>803500.0</td>\n",
       "      <td>135</td>\n",
       "      <td>46</td>\n",
       "      <td>85222.0</td>\n",
       "      <td>351</td>\n",
       "    </tr>\n",
       "    <tr>\n",
       "      <th>42613</th>\n",
       "      <td>1</td>\n",
       "      <td>2</td>\n",
       "      <td>1561931.0</td>\n",
       "      <td>102925.0</td>\n",
       "      <td>130</td>\n",
       "      <td>47</td>\n",
       "      <td>196.0</td>\n",
       "      <td>154</td>\n",
       "    </tr>\n",
       "    <tr>\n",
       "      <th>43567</th>\n",
       "      <td>2</td>\n",
       "      <td>3</td>\n",
       "      <td>270797.0</td>\n",
       "      <td>305944.0</td>\n",
       "      <td>130</td>\n",
       "      <td>47</td>\n",
       "      <td>117.0</td>\n",
       "      <td>180</td>\n",
       "    </tr>\n",
       "    <tr>\n",
       "      <th>2732</th>\n",
       "      <td>3</td>\n",
       "      <td>4</td>\n",
       "      <td>686522.0</td>\n",
       "      <td>835499.0</td>\n",
       "      <td>130</td>\n",
       "      <td>47</td>\n",
       "      <td>565.0</td>\n",
       "      <td>70</td>\n",
       "    </tr>\n",
       "  </tbody>\n",
       "</table>\n",
       "<p>43296 rows × 8 columns</p>\n",
       "</div>"
      ],
      "text/plain": [
       "       risk_rank  AGE  total_asset     cycam  country  cur_type       amt  \\\n",
       "20227          1    5       1330.0  307001.0      130        47   36073.0   \n",
       "13858          3    3     517214.0  418264.0      130        47  117114.0   \n",
       "7643           1    2       5691.0   72435.0       59        16       8.0   \n",
       "31207          3    3     867571.0  312011.0      134        30     209.0   \n",
       "37784          1    2       6401.0  250274.0      130        47   12914.0   \n",
       "...          ...  ...          ...       ...      ...       ...       ...   \n",
       "21243          3    3     991292.0  312011.0      134        30     214.0   \n",
       "45891          1    3          0.0  803500.0      135        46   85222.0   \n",
       "42613          1    2    1561931.0  102925.0      130        47     196.0   \n",
       "43567          2    3     270797.0  305944.0      130        47     117.0   \n",
       "2732           3    4     686522.0  835499.0      130        47     565.0   \n",
       "\n",
       "       date  \n",
       "20227   125  \n",
       "13858    36  \n",
       "7643    363  \n",
       "31207    62  \n",
       "37784   216  \n",
       "...     ...  \n",
       "21243    20  \n",
       "45891   351  \n",
       "42613   154  \n",
       "43567   180  \n",
       "2732     70  \n",
       "\n",
       "[43296 rows x 8 columns]"
      ]
     },
     "execution_count": 26,
     "metadata": {},
     "output_type": "execute_result"
    }
   ],
   "source": [
    "cdtx_X_train_new2"
   ]
  },
  {
   "cell_type": "code",
   "execution_count": 27,
   "metadata": {},
   "outputs": [
    {
     "data": {
      "text/html": [
       "<div>\n",
       "<style scoped>\n",
       "    .dataframe tbody tr th:only-of-type {\n",
       "        vertical-align: middle;\n",
       "    }\n",
       "\n",
       "    .dataframe tbody tr th {\n",
       "        vertical-align: top;\n",
       "    }\n",
       "\n",
       "    .dataframe thead th {\n",
       "        text-align: right;\n",
       "    }\n",
       "</style>\n",
       "<table border=\"1\" class=\"dataframe\">\n",
       "  <thead>\n",
       "    <tr style=\"text-align: right;\">\n",
       "      <th></th>\n",
       "      <th>risk_rank</th>\n",
       "      <th>AGE</th>\n",
       "      <th>total_asset</th>\n",
       "      <th>cycam</th>\n",
       "      <th>country</th>\n",
       "      <th>cur_type</th>\n",
       "      <th>amt</th>\n",
       "      <th>date</th>\n",
       "    </tr>\n",
       "  </thead>\n",
       "  <tbody>\n",
       "    <tr>\n",
       "      <th>15362</th>\n",
       "      <td>1</td>\n",
       "      <td>6</td>\n",
       "      <td>2287681.0</td>\n",
       "      <td>1503243.0</td>\n",
       "      <td>130</td>\n",
       "      <td>47</td>\n",
       "      <td>2336.0</td>\n",
       "      <td>20</td>\n",
       "    </tr>\n",
       "    <tr>\n",
       "      <th>21928</th>\n",
       "      <td>3</td>\n",
       "      <td>3</td>\n",
       "      <td>991292.0</td>\n",
       "      <td>312011.0</td>\n",
       "      <td>52</td>\n",
       "      <td>13</td>\n",
       "      <td>12840.0</td>\n",
       "      <td>26</td>\n",
       "    </tr>\n",
       "    <tr>\n",
       "      <th>46113</th>\n",
       "      <td>1</td>\n",
       "      <td>3</td>\n",
       "      <td>27396.0</td>\n",
       "      <td>201307.0</td>\n",
       "      <td>44</td>\n",
       "      <td>47</td>\n",
       "      <td>813.0</td>\n",
       "      <td>267</td>\n",
       "    </tr>\n",
       "    <tr>\n",
       "      <th>32837</th>\n",
       "      <td>1</td>\n",
       "      <td>2</td>\n",
       "      <td>326296.0</td>\n",
       "      <td>292963.0</td>\n",
       "      <td>135</td>\n",
       "      <td>46</td>\n",
       "      <td>5737.0</td>\n",
       "      <td>117</td>\n",
       "    </tr>\n",
       "    <tr>\n",
       "      <th>24270</th>\n",
       "      <td>3</td>\n",
       "      <td>3</td>\n",
       "      <td>797756.0</td>\n",
       "      <td>312011.0</td>\n",
       "      <td>134</td>\n",
       "      <td>30</td>\n",
       "      <td>212.0</td>\n",
       "      <td>35</td>\n",
       "    </tr>\n",
       "    <tr>\n",
       "      <th>...</th>\n",
       "      <td>...</td>\n",
       "      <td>...</td>\n",
       "      <td>...</td>\n",
       "      <td>...</td>\n",
       "      <td>...</td>\n",
       "      <td>...</td>\n",
       "      <td>...</td>\n",
       "      <td>...</td>\n",
       "    </tr>\n",
       "    <tr>\n",
       "      <th>41021</th>\n",
       "      <td>1</td>\n",
       "      <td>3</td>\n",
       "      <td>160933.0</td>\n",
       "      <td>402038.0</td>\n",
       "      <td>130</td>\n",
       "      <td>47</td>\n",
       "      <td>86214.0</td>\n",
       "      <td>194</td>\n",
       "    </tr>\n",
       "    <tr>\n",
       "      <th>19784</th>\n",
       "      <td>3</td>\n",
       "      <td>3</td>\n",
       "      <td>332090.0</td>\n",
       "      <td>522800.0</td>\n",
       "      <td>43</td>\n",
       "      <td>47</td>\n",
       "      <td>1031.0</td>\n",
       "      <td>99</td>\n",
       "    </tr>\n",
       "    <tr>\n",
       "      <th>9746</th>\n",
       "      <td>3</td>\n",
       "      <td>5</td>\n",
       "      <td>2815277.0</td>\n",
       "      <td>402456.0</td>\n",
       "      <td>130</td>\n",
       "      <td>47</td>\n",
       "      <td>332.0</td>\n",
       "      <td>348</td>\n",
       "    </tr>\n",
       "    <tr>\n",
       "      <th>13948</th>\n",
       "      <td>3</td>\n",
       "      <td>3</td>\n",
       "      <td>517214.0</td>\n",
       "      <td>418264.0</td>\n",
       "      <td>130</td>\n",
       "      <td>47</td>\n",
       "      <td>125479.0</td>\n",
       "      <td>42</td>\n",
       "    </tr>\n",
       "    <tr>\n",
       "      <th>18428</th>\n",
       "      <td>1</td>\n",
       "      <td>2</td>\n",
       "      <td>155750.0</td>\n",
       "      <td>202031.0</td>\n",
       "      <td>130</td>\n",
       "      <td>47</td>\n",
       "      <td>53821.0</td>\n",
       "      <td>8</td>\n",
       "    </tr>\n",
       "  </tbody>\n",
       "</table>\n",
       "<p>4811 rows × 8 columns</p>\n",
       "</div>"
      ],
      "text/plain": [
       "       risk_rank  AGE  total_asset      cycam  country  cur_type       amt  \\\n",
       "15362          1    6    2287681.0  1503243.0      130        47    2336.0   \n",
       "21928          3    3     991292.0   312011.0       52        13   12840.0   \n",
       "46113          1    3      27396.0   201307.0       44        47     813.0   \n",
       "32837          1    2     326296.0   292963.0      135        46    5737.0   \n",
       "24270          3    3     797756.0   312011.0      134        30     212.0   \n",
       "...          ...  ...          ...        ...      ...       ...       ...   \n",
       "41021          1    3     160933.0   402038.0      130        47   86214.0   \n",
       "19784          3    3     332090.0   522800.0       43        47    1031.0   \n",
       "9746           3    5    2815277.0   402456.0      130        47     332.0   \n",
       "13948          3    3     517214.0   418264.0      130        47  125479.0   \n",
       "18428          1    2     155750.0   202031.0      130        47   53821.0   \n",
       "\n",
       "       date  \n",
       "15362    20  \n",
       "21928    26  \n",
       "46113   267  \n",
       "32837   117  \n",
       "24270    35  \n",
       "...     ...  \n",
       "41021   194  \n",
       "19784    99  \n",
       "9746    348  \n",
       "13948    42  \n",
       "18428     8  \n",
       "\n",
       "[4811 rows x 8 columns]"
      ]
     },
     "execution_count": 27,
     "metadata": {},
     "output_type": "execute_result"
    }
   ],
   "source": [
    "cdtx_X_test_new2 = cdtx_X_test[['risk_rank','AGE','total_asset','cycam','country','cur_type','amt','date']]\n",
    "cdtx_X_test_new2"
   ]
  },
  {
   "cell_type": "code",
   "execution_count": 28,
   "metadata": {},
   "outputs": [],
   "source": [
    "cdtx_ct_new2 = ColumnTransformer(transformers=[('onehot', OneHotEncoder(handle_unknown='ignore'),[0,1,4,5,7]),('std',StandardScaler(),[2,3,6])], remainder='passthrough')\n",
    "cdtx_X_train_new2_T = cdtx_ct_new.fit_transform(cdtx_X_train_new2)\n",
    "cdtx_X_test_new2_T = cdtx_ct_new.transform(cdtx_X_test_new2)"
   ]
  },
  {
   "cell_type": "code",
   "execution_count": 29,
   "metadata": {},
   "outputs": [
    {
     "data": {
      "text/plain": [
       "<43296x3471 sparse matrix of type '<class 'numpy.float64'>'\n",
       "\twith 346037 stored elements in Compressed Sparse Row format>"
      ]
     },
     "execution_count": 29,
     "metadata": {},
     "output_type": "execute_result"
    }
   ],
   "source": [
    "cdtx_X_train_new2_T"
   ]
  },
  {
   "cell_type": "code",
   "execution_count": 30,
   "metadata": {},
   "outputs": [
    {
     "data": {
      "text/html": [
       "<style>#sk-container-id-2 {color: black;background-color: white;}#sk-container-id-2 pre{padding: 0;}#sk-container-id-2 div.sk-toggleable {background-color: white;}#sk-container-id-2 label.sk-toggleable__label {cursor: pointer;display: block;width: 100%;margin-bottom: 0;padding: 0.3em;box-sizing: border-box;text-align: center;}#sk-container-id-2 label.sk-toggleable__label-arrow:before {content: \"▸\";float: left;margin-right: 0.25em;color: #696969;}#sk-container-id-2 label.sk-toggleable__label-arrow:hover:before {color: black;}#sk-container-id-2 div.sk-estimator:hover label.sk-toggleable__label-arrow:before {color: black;}#sk-container-id-2 div.sk-toggleable__content {max-height: 0;max-width: 0;overflow: hidden;text-align: left;background-color: #f0f8ff;}#sk-container-id-2 div.sk-toggleable__content pre {margin: 0.2em;color: black;border-radius: 0.25em;background-color: #f0f8ff;}#sk-container-id-2 input.sk-toggleable__control:checked~div.sk-toggleable__content {max-height: 200px;max-width: 100%;overflow: auto;}#sk-container-id-2 input.sk-toggleable__control:checked~label.sk-toggleable__label-arrow:before {content: \"▾\";}#sk-container-id-2 div.sk-estimator input.sk-toggleable__control:checked~label.sk-toggleable__label {background-color: #d4ebff;}#sk-container-id-2 div.sk-label input.sk-toggleable__control:checked~label.sk-toggleable__label {background-color: #d4ebff;}#sk-container-id-2 input.sk-hidden--visually {border: 0;clip: rect(1px 1px 1px 1px);clip: rect(1px, 1px, 1px, 1px);height: 1px;margin: -1px;overflow: hidden;padding: 0;position: absolute;width: 1px;}#sk-container-id-2 div.sk-estimator {font-family: monospace;background-color: #f0f8ff;border: 1px dotted black;border-radius: 0.25em;box-sizing: border-box;margin-bottom: 0.5em;}#sk-container-id-2 div.sk-estimator:hover {background-color: #d4ebff;}#sk-container-id-2 div.sk-parallel-item::after {content: \"\";width: 100%;border-bottom: 1px solid gray;flex-grow: 1;}#sk-container-id-2 div.sk-label:hover label.sk-toggleable__label {background-color: #d4ebff;}#sk-container-id-2 div.sk-serial::before {content: \"\";position: absolute;border-left: 1px solid gray;box-sizing: border-box;top: 0;bottom: 0;left: 50%;z-index: 0;}#sk-container-id-2 div.sk-serial {display: flex;flex-direction: column;align-items: center;background-color: white;padding-right: 0.2em;padding-left: 0.2em;position: relative;}#sk-container-id-2 div.sk-item {position: relative;z-index: 1;}#sk-container-id-2 div.sk-parallel {display: flex;align-items: stretch;justify-content: center;background-color: white;position: relative;}#sk-container-id-2 div.sk-item::before, #sk-container-id-2 div.sk-parallel-item::before {content: \"\";position: absolute;border-left: 1px solid gray;box-sizing: border-box;top: 0;bottom: 0;left: 50%;z-index: -1;}#sk-container-id-2 div.sk-parallel-item {display: flex;flex-direction: column;z-index: 1;position: relative;background-color: white;}#sk-container-id-2 div.sk-parallel-item:first-child::after {align-self: flex-end;width: 50%;}#sk-container-id-2 div.sk-parallel-item:last-child::after {align-self: flex-start;width: 50%;}#sk-container-id-2 div.sk-parallel-item:only-child::after {width: 0;}#sk-container-id-2 div.sk-dashed-wrapped {border: 1px dashed gray;margin: 0 0.4em 0.5em 0.4em;box-sizing: border-box;padding-bottom: 0.4em;background-color: white;}#sk-container-id-2 div.sk-label label {font-family: monospace;font-weight: bold;display: inline-block;line-height: 1.2em;}#sk-container-id-2 div.sk-label-container {text-align: center;}#sk-container-id-2 div.sk-container {/* jupyter's `normalize.less` sets `[hidden] { display: none; }` but bootstrap.min.css set `[hidden] { display: none !important; }` so we also need the `!important` here to be able to override the default hidden behavior on the sphinx rendered scikit-learn.org. See: https://github.com/scikit-learn/scikit-learn/issues/21755 */display: inline-block !important;position: relative;}#sk-container-id-2 div.sk-text-repr-fallback {display: none;}</style><div id=\"sk-container-id-2\" class=\"sk-top-container\"><div class=\"sk-text-repr-fallback\"><pre>LogisticRegression(max_iter=1000000, solver=&#x27;sag&#x27;)</pre><b>In a Jupyter environment, please rerun this cell to show the HTML representation or trust the notebook. <br />On GitHub, the HTML representation is unable to render, please try loading this page with nbviewer.org.</b></div><div class=\"sk-container\" hidden><div class=\"sk-item\"><div class=\"sk-estimator sk-toggleable\"><input class=\"sk-toggleable__control sk-hidden--visually\" id=\"sk-estimator-id-2\" type=\"checkbox\" checked><label for=\"sk-estimator-id-2\" class=\"sk-toggleable__label sk-toggleable__label-arrow\">LogisticRegression</label><div class=\"sk-toggleable__content\"><pre>LogisticRegression(max_iter=1000000, solver=&#x27;sag&#x27;)</pre></div></div></div></div></div>"
      ],
      "text/plain": [
       "LogisticRegression(max_iter=1000000, solver='sag')"
      ]
     },
     "execution_count": 30,
     "metadata": {},
     "output_type": "execute_result"
    }
   ],
   "source": [
    "cdtx_classfier_new2 = LogisticRegression(solver='sag',max_iter=1000000)\n",
    "cdtx_classfier_new2.fit(cdtx_X_train_new2_T, cdtx_y_train.values.ravel())"
   ]
  },
  {
   "cell_type": "code",
   "execution_count": 31,
   "metadata": {},
   "outputs": [
    {
     "name": "stdout",
     "output_type": "stream",
     "text": [
      "[[4763    0]\n",
      " [  48    0]]\n"
     ]
    }
   ],
   "source": [
    "cdtx_y_pred_new2 = cdtx_classfier_new2.predict(cdtx_X_test_new2_T)\n",
    "cdtx_cm_new2 = confusion_matrix(cdtx_y_test, cdtx_y_pred_new2)\n",
    "print(cdtx_cm_new2)"
   ]
  },
  {
   "cell_type": "code",
   "execution_count": 32,
   "metadata": {},
   "outputs": [
    {
     "name": "stdout",
     "output_type": "stream",
     "text": [
      "Test set Accuracy: 99.00 %\n"
     ]
    }
   ],
   "source": [
    "print('Test set Accuracy: {:.2f} %'.format(accuracy_score(cdtx_y_test, cdtx_y_pred_new2)*100))"
   ]
  },
  {
   "cell_type": "code",
   "execution_count": 33,
   "metadata": {},
   "outputs": [
    {
     "data": {
      "image/png": "[encoded data removed]",
      "text/plain": [
       "<Figure size 640x480 with 2 Axes>"
      ]
     },
     "metadata": {},
     "output_type": "display_data"
    }
   ],
   "source": [
    "cdtx_display2 = ConfusionMatrixDisplay(confusion_matrix=cdtx_cm_new2)\n",
    "cdtx_display2.plot()\n",
    "plt.show()"
   ]
  },
  {
   "attachments": {},
   "cell_type": "markdown",
   "metadata": {},
   "source": [
    "第三種選擇 fs_score 前兩名"
   ]
  },
  {
   "cell_type": "code",
   "execution_count": 34,
   "metadata": {},
   "outputs": [],
   "source": [
    "cdtx_X_train_new3 = cdtx_X_train[['country','cur_type','total_asset','cycam','amt']]\n",
    "cdtx_X_test_new3 = cdtx_X_test[['country','cur_type','total_asset','cycam','amt']]"
   ]
  },
  {
   "cell_type": "code",
   "execution_count": 35,
   "metadata": {},
   "outputs": [],
   "source": [
    "cdtx_ct_new3 = ColumnTransformer(transformers=[('onehot', OneHotEncoder(handle_unknown='ignore'),[0,1]),('std',StandardScaler(),[2,3,4])], remainder='passthrough')\n",
    "cdtx_X_train_new3_T = cdtx_ct_new3.fit_transform(cdtx_X_train_new3)\n",
    "cdtx_X_test_new3_T = cdtx_ct_new3.transform(cdtx_X_test_new3)"
   ]
  },
  {
   "cell_type": "code",
   "execution_count": 36,
   "metadata": {},
   "outputs": [
    {
     "data": {
      "text/plain": [
       "<43296x92 sparse matrix of type '<class 'numpy.float64'>'\n",
       "\twith 216480 stored elements in Compressed Sparse Row format>"
      ]
     },
     "execution_count": 36,
     "metadata": {},
     "output_type": "execute_result"
    }
   ],
   "source": [
    "cdtx_X_train_new3_T"
   ]
  },
  {
   "cell_type": "code",
   "execution_count": 37,
   "metadata": {},
   "outputs": [
    {
     "data": {
      "text/html": [
       "<style>#sk-container-id-3 {color: black;background-color: white;}#sk-container-id-3 pre{padding: 0;}#sk-container-id-3 div.sk-toggleable {background-color: white;}#sk-container-id-3 label.sk-toggleable__label {cursor: pointer;display: block;width: 100%;margin-bottom: 0;padding: 0.3em;box-sizing: border-box;text-align: center;}#sk-container-id-3 label.sk-toggleable__label-arrow:before {content: \"▸\";float: left;margin-right: 0.25em;color: #696969;}#sk-container-id-3 label.sk-toggleable__label-arrow:hover:before {color: black;}#sk-container-id-3 div.sk-estimator:hover label.sk-toggleable__label-arrow:before {color: black;}#sk-container-id-3 div.sk-toggleable__content {max-height: 0;max-width: 0;overflow: hidden;text-align: left;background-color: #f0f8ff;}#sk-container-id-3 div.sk-toggleable__content pre {margin: 0.2em;color: black;border-radius: 0.25em;background-color: #f0f8ff;}#sk-container-id-3 input.sk-toggleable__control:checked~div.sk-toggleable__content {max-height: 200px;max-width: 100%;overflow: auto;}#sk-container-id-3 input.sk-toggleable__control:checked~label.sk-toggleable__label-arrow:before {content: \"▾\";}#sk-container-id-3 div.sk-estimator input.sk-toggleable__control:checked~label.sk-toggleable__label {background-color: #d4ebff;}#sk-container-id-3 div.sk-label input.sk-toggleable__control:checked~label.sk-toggleable__label {background-color: #d4ebff;}#sk-container-id-3 input.sk-hidden--visually {border: 0;clip: rect(1px 1px 1px 1px);clip: rect(1px, 1px, 1px, 1px);height: 1px;margin: -1px;overflow: hidden;padding: 0;position: absolute;width: 1px;}#sk-container-id-3 div.sk-estimator {font-family: monospace;background-color: #f0f8ff;border: 1px dotted black;border-radius: 0.25em;box-sizing: border-box;margin-bottom: 0.5em;}#sk-container-id-3 div.sk-estimator:hover {background-color: #d4ebff;}#sk-container-id-3 div.sk-parallel-item::after {content: \"\";width: 100%;border-bottom: 1px solid gray;flex-grow: 1;}#sk-container-id-3 div.sk-label:hover label.sk-toggleable__label {background-color: #d4ebff;}#sk-container-id-3 div.sk-serial::before {content: \"\";position: absolute;border-left: 1px solid gray;box-sizing: border-box;top: 0;bottom: 0;left: 50%;z-index: 0;}#sk-container-id-3 div.sk-serial {display: flex;flex-direction: column;align-items: center;background-color: white;padding-right: 0.2em;padding-left: 0.2em;position: relative;}#sk-container-id-3 div.sk-item {position: relative;z-index: 1;}#sk-container-id-3 div.sk-parallel {display: flex;align-items: stretch;justify-content: center;background-color: white;position: relative;}#sk-container-id-3 div.sk-item::before, #sk-container-id-3 div.sk-parallel-item::before {content: \"\";position: absolute;border-left: 1px solid gray;box-sizing: border-box;top: 0;bottom: 0;left: 50%;z-index: -1;}#sk-container-id-3 div.sk-parallel-item {display: flex;flex-direction: column;z-index: 1;position: relative;background-color: white;}#sk-container-id-3 div.sk-parallel-item:first-child::after {align-self: flex-end;width: 50%;}#sk-container-id-3 div.sk-parallel-item:last-child::after {align-self: flex-start;width: 50%;}#sk-container-id-3 div.sk-parallel-item:only-child::after {width: 0;}#sk-container-id-3 div.sk-dashed-wrapped {border: 1px dashed gray;margin: 0 0.4em 0.5em 0.4em;box-sizing: border-box;padding-bottom: 0.4em;background-color: white;}#sk-container-id-3 div.sk-label label {font-family: monospace;font-weight: bold;display: inline-block;line-height: 1.2em;}#sk-container-id-3 div.sk-label-container {text-align: center;}#sk-container-id-3 div.sk-container {/* jupyter's `normalize.less` sets `[hidden] { display: none; }` but bootstrap.min.css set `[hidden] { display: none !important; }` so we also need the `!important` here to be able to override the default hidden behavior on the sphinx rendered scikit-learn.org. See: https://github.com/scikit-learn/scikit-learn/issues/21755 */display: inline-block !important;position: relative;}#sk-container-id-3 div.sk-text-repr-fallback {display: none;}</style><div id=\"sk-container-id-3\" class=\"sk-top-container\"><div class=\"sk-text-repr-fallback\"><pre>LogisticRegression(max_iter=1000000, solver=&#x27;sag&#x27;)</pre><b>In a Jupyter environment, please rerun this cell to show the HTML representation or trust the notebook. <br />On GitHub, the HTML representation is unable to render, please try loading this page with nbviewer.org.</b></div><div class=\"sk-container\" hidden><div class=\"sk-item\"><div class=\"sk-estimator sk-toggleable\"><input class=\"sk-toggleable__control sk-hidden--visually\" id=\"sk-estimator-id-3\" type=\"checkbox\" checked><label for=\"sk-estimator-id-3\" class=\"sk-toggleable__label sk-toggleable__label-arrow\">LogisticRegression</label><div class=\"sk-toggleable__content\"><pre>LogisticRegression(max_iter=1000000, solver=&#x27;sag&#x27;)</pre></div></div></div></div></div>"
      ],
      "text/plain": [
       "LogisticRegression(max_iter=1000000, solver='sag')"
      ]
     },
     "execution_count": 37,
     "metadata": {},
     "output_type": "execute_result"
    }
   ],
   "source": [
    "cdtx_classfier_new3 = LogisticRegression(solver='sag',max_iter=1000000)\n",
    "cdtx_classfier_new3.fit(cdtx_X_train_new3_T, cdtx_y_train.values.ravel())"
   ]
  },
  {
   "cell_type": "code",
   "execution_count": 38,
   "metadata": {},
   "outputs": [
    {
     "name": "stdout",
     "output_type": "stream",
     "text": [
      "[[4763    0]\n",
      " [  48    0]]\n"
     ]
    }
   ],
   "source": [
    "cdtx_y_pred_new3 = cdtx_classfier_new3.predict(cdtx_X_test_new3_T)\n",
    "cdtx_cm_new3 = confusion_matrix(cdtx_y_test, cdtx_y_pred_new3)\n",
    "print(cdtx_cm_new3)"
   ]
  },
  {
   "cell_type": "code",
   "execution_count": 39,
   "metadata": {},
   "outputs": [
    {
     "name": "stdout",
     "output_type": "stream",
     "text": [
      "Test set Accuracy: 99.00 %\n"
     ]
    }
   ],
   "source": [
    "print('Test set Accuracy: {:.2f} %'.format(accuracy_score(cdtx_y_test, cdtx_y_pred_new3)*100))"
   ]
  },
  {
   "cell_type": "code",
   "execution_count": 40,
   "metadata": {},
   "outputs": [
    {
     "data": {
      "image/png": "[encoded data removed]",
      "text/plain": [
       "<Figure size 640x480 with 2 Axes>"
      ]
     },
     "metadata": {},
     "output_type": "display_data"
    }
   ],
   "source": [
    "cdtx_display3 = ConfusionMatrixDisplay(confusion_matrix=cdtx_cm_new3)\n",
    "cdtx_display3.plot()\n",
    "plt.show()"
   ]
  }
 ],
 "metadata": {
  "kernelspec": {
   "display_name": "moneylaundring",
   "language": "python",
   "name": "python3"
  },
  "language_info": {
   "codemirror_mode": {
    "name": "ipython",
    "version": 3
   },
   "file_extension": ".py",
   "mimetype": "text/x-python",
   "name": "python",
   "nbconvert_exporter": "python",
   "pygments_lexer": "ipython3",
   "version": "3.10.8"
  },
  "orig_nbformat": 4,
  "vscode": {
   "interpreter": {
    "hash": "e1f3c677c2d4c7a39031d80eea489745965d64e900ff6f66e2eb9b80cdb99d6c"
   }
  }
 },
 "nbformat": 4,
 "nbformat_minor": 2
}
